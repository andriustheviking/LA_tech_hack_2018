{
 "cells": [
  {
   "cell_type": "code",
   "execution_count": 98,
   "metadata": {},
   "outputs": [
    {
     "name": "stdout",
     "output_type": "stream",
     "text": [
      "   userID  did_research  interview_time  num_questions_asked  tech_Q_1  \\\n",
      "0       0             1              76                    2         1   \n",
      "1       1             1              39                    1         1   \n",
      "2       2             1              71                    0         1   \n",
      "3       3             1              65                    1         1   \n",
      "4       4             1              45                    0         1   \n",
      "\n",
      "   tech_Q_2  personality  salary_prev  salary_expect  success  \n",
      "0         0            2       119000         120000        1  \n",
      "1         0            1        80000         191000        0  \n",
      "2         0            3        87000         428000        0  \n",
      "3         0            1       119000         120000        1  \n",
      "4         1            2        91000         480000        0  \n"
     ]
    }
   ],
   "source": [
    "import pandas as pd\n",
    "\n",
    "df = pd.read_csv('data3.csv')\n",
    "\n",
    "print(df.head())"
   ]
  },
  {
   "cell_type": "code",
   "execution_count": 99,
   "metadata": {
    "collapsed": true
   },
   "outputs": [],
   "source": [
    "df = df.drop('userID', axis=1)"
   ]
  },
  {
   "cell_type": "code",
   "execution_count": 100,
   "metadata": {},
   "outputs": [
    {
     "name": "stdout",
     "output_type": "stream",
     "text": [
      "<bound method DataFrame.head of      did_research  interview_time  num_questions_asked  tech_Q_1  tech_Q_2  \\\n",
      "0               1              76                    2         1         0   \n",
      "1               1              39                    1         1         0   \n",
      "2               1              71                    0         1         0   \n",
      "3               1              65                    1         1         0   \n",
      "4               1              45                    0         1         1   \n",
      "5               1              66                    2         1         0   \n",
      "6               1              57                    2         1         1   \n",
      "7               1              49                    3         1         0   \n",
      "8               1              38                    0         1         0   \n",
      "9               1              49                    1         1         1   \n",
      "10              1              67                    0         1         1   \n",
      "11              1              47                    2         1         0   \n",
      "12              1              20                    0         1         0   \n",
      "13              1              64                    2         1         0   \n",
      "14              1              54                    2         1         1   \n",
      "15              1              60                    2         1         1   \n",
      "16              1              18                    1         1         0   \n",
      "17              1              79                    2         1         0   \n",
      "18              1              64                    1         1         0   \n",
      "19              1              60                    4         1         1   \n",
      "20              1              54                    0         1         0   \n",
      "21              1              27                    1         1         1   \n",
      "22              1              29                    0         1         1   \n",
      "23              1              18                    2         1         1   \n",
      "24              1              53                    2         1         0   \n",
      "25              1              78                    2         1         1   \n",
      "26              1              56                    4         1         0   \n",
      "27              1              61                    1         1         0   \n",
      "28              1              66                    4         1         0   \n",
      "29              0              46                    2         0         1   \n",
      "..            ...             ...                  ...       ...       ...   \n",
      "220             1              50                    2         1         1   \n",
      "221             1              27                    1         1         0   \n",
      "222             1              26                    1         1         0   \n",
      "223             1              60                    3         1         1   \n",
      "224             1              38                    2         1         1   \n",
      "225             1              77                    2         1         1   \n",
      "226             1              58                    4         1         1   \n",
      "227             1              41                    1         1         1   \n",
      "228             1              75                    2         1         1   \n",
      "229             1              76                    2         1         0   \n",
      "230             1              65                    2         1         1   \n",
      "231             1              78                    3         1         0   \n",
      "232             1              80                    3         1         1   \n",
      "233             1              42                    3         1         1   \n",
      "234             1              49                    3         1         1   \n",
      "235             1              42                    0         1         0   \n",
      "236             1              59                    2         1         0   \n",
      "237             1              61                    1         0         1   \n",
      "238             1              77                    2         1         1   \n",
      "239             1              51                    1         1         1   \n",
      "240             1              29                    0         1         0   \n",
      "241             1              22                    0         1         1   \n",
      "242             1              71                    1         1         1   \n",
      "243             1              77                    1         0         0   \n",
      "244             1              50                    2         1         0   \n",
      "245             1              61                    2         1         1   \n",
      "246             1              42                    4         1         1   \n",
      "247             1              59                    1         1         1   \n",
      "248             1              60                    2         1         1   \n",
      "249             1              56                    4         1         1   \n",
      "\n",
      "     personality  salary_prev  salary_expect  success  \n",
      "0              2       119000         120000        1  \n",
      "1              1        80000         191000        0  \n",
      "2              3        87000         428000        0  \n",
      "3              1       119000         120000        1  \n",
      "4              2        91000         480000        0  \n",
      "5              1       124000         134000        1  \n",
      "6              2       106000         111000        1  \n",
      "7              2       101000         103000        1  \n",
      "8              3        85000         299000        0  \n",
      "9              3       127000         137000        1  \n",
      "10             1        90000         150000        0  \n",
      "11             2        93000         102000        1  \n",
      "12             2        87000         149000        0  \n",
      "13             2        94000         357000        0  \n",
      "14             3       114000         115000        1  \n",
      "15             2        85000          91000        1  \n",
      "16             1        80000         250000        0  \n",
      "17             2        94000         113000        0  \n",
      "18             3        85000         432000        0  \n",
      "19             2        96000         100000        1  \n",
      "20             2        90000         150000        0  \n",
      "21             1        92000         462000        0  \n",
      "22             3        96000         171000        0  \n",
      "23             1        93000          98000        0  \n",
      "24             3        91000          93000        1  \n",
      "25             3        88000          90000        1  \n",
      "26             1        90000          95000        1  \n",
      "27             2        99000         389000        0  \n",
      "28             2       101000         111000        1  \n",
      "29             2        89000          97000        1  \n",
      "..           ...          ...            ...      ...  \n",
      "220            3        92000         190000        0  \n",
      "221            3        93000         171000        0  \n",
      "222            2        85000         188000        0  \n",
      "223            1       100000         105000        1  \n",
      "224            2        81000         262000        0  \n",
      "225            2       111000         121000        1  \n",
      "226            3       102000         105000        1  \n",
      "227            1       106000         108000        1  \n",
      "228            3        95000         212000        0  \n",
      "229            1       109000         116000        1  \n",
      "230            2        81000         451000        0  \n",
      "231            3        90000          99000        1  \n",
      "232            2       126000         129000        1  \n",
      "233            3        98000         106000        1  \n",
      "234            3       101000         105000        1  \n",
      "235            3        95000         154000        0  \n",
      "236            1        90000         258000        0  \n",
      "237            1        85000         152000        0  \n",
      "238            2        93000         165000        0  \n",
      "239            3        89000         175000        0  \n",
      "240            1        96000         326000        0  \n",
      "241            1        88000         482000        0  \n",
      "242            2        96000         244000        0  \n",
      "243            1        83000          84000        1  \n",
      "244            1        91000         276000        0  \n",
      "245            1        91000         100000        1  \n",
      "246            3       103000         109000        1  \n",
      "247            2        95000         405000        0  \n",
      "248            1       121000         124000        1  \n",
      "249            1        88000          94000        1  \n",
      "\n",
      "[250 rows x 9 columns]>\n"
     ]
    }
   ],
   "source": [
    "print(df.head)"
   ]
  },
  {
   "cell_type": "code",
   "execution_count": 101,
   "metadata": {
    "collapsed": true
   },
   "outputs": [],
   "source": [
    "from sklearn.model_selection import train_test_split"
   ]
  },
  {
   "cell_type": "code",
   "execution_count": 102,
   "metadata": {},
   "outputs": [],
   "source": [
    "y=df['success']"
   ]
  },
  {
   "cell_type": "code",
   "execution_count": 103,
   "metadata": {},
   "outputs": [
    {
     "data": {
      "text/plain": [
       "0      1\n",
       "1      0\n",
       "2      0\n",
       "3      1\n",
       "4      0\n",
       "5      1\n",
       "6      1\n",
       "7      1\n",
       "8      0\n",
       "9      1\n",
       "10     0\n",
       "11     1\n",
       "12     0\n",
       "13     0\n",
       "14     1\n",
       "15     1\n",
       "16     0\n",
       "17     0\n",
       "18     0\n",
       "19     1\n",
       "20     0\n",
       "21     0\n",
       "22     0\n",
       "23     0\n",
       "24     1\n",
       "25     1\n",
       "26     1\n",
       "27     0\n",
       "28     1\n",
       "29     1\n",
       "      ..\n",
       "220    0\n",
       "221    0\n",
       "222    0\n",
       "223    1\n",
       "224    0\n",
       "225    1\n",
       "226    1\n",
       "227    1\n",
       "228    0\n",
       "229    1\n",
       "230    0\n",
       "231    1\n",
       "232    1\n",
       "233    1\n",
       "234    1\n",
       "235    0\n",
       "236    0\n",
       "237    0\n",
       "238    0\n",
       "239    0\n",
       "240    0\n",
       "241    0\n",
       "242    0\n",
       "243    1\n",
       "244    0\n",
       "245    1\n",
       "246    1\n",
       "247    0\n",
       "248    1\n",
       "249    1\n",
       "Name: success, Length: 250, dtype: int64"
      ]
     },
     "execution_count": 103,
     "metadata": {},
     "output_type": "execute_result"
    }
   ],
   "source": [
    "y"
   ]
  },
  {
   "cell_type": "code",
   "execution_count": 104,
   "metadata": {
    "collapsed": true
   },
   "outputs": [],
   "source": [
    "x=df.drop(['success'], axis=1)"
   ]
  },
  {
   "cell_type": "code",
   "execution_count": 105,
   "metadata": {},
   "outputs": [
    {
     "data": {
      "text/plain": [
       "(250, 8)"
      ]
     },
     "execution_count": 105,
     "metadata": {},
     "output_type": "execute_result"
    }
   ],
   "source": [
    "x.shape"
   ]
  },
  {
   "cell_type": "code",
   "execution_count": 106,
   "metadata": {},
   "outputs": [
    {
     "data": {
      "text/plain": [
       "(250L,)"
      ]
     },
     "execution_count": 106,
     "metadata": {},
     "output_type": "execute_result"
    }
   ],
   "source": [
    "y.shape"
   ]
  },
  {
   "cell_type": "code",
   "execution_count": 107,
   "metadata": {
    "collapsed": true
   },
   "outputs": [],
   "source": [
    "from sklearn.linear_model import LinearRegression"
   ]
  },
  {
   "cell_type": "code",
   "execution_count": 108,
   "metadata": {
    "collapsed": true
   },
   "outputs": [],
   "source": [
    "regression_model = LinearRegression()"
   ]
  },
  {
   "cell_type": "code",
   "execution_count": 109,
   "metadata": {},
   "outputs": [
    {
     "data": {
      "text/plain": [
       "LinearRegression(copy_X=True, fit_intercept=True, n_jobs=1, normalize=False)"
      ]
     },
     "execution_count": 109,
     "metadata": {},
     "output_type": "execute_result"
    }
   ],
   "source": [
    "regression_model.fit(x, y)"
   ]
  },
  {
   "cell_type": "code",
   "execution_count": 110,
   "metadata": {},
   "outputs": [
    {
     "data": {
      "text/plain": [
       "array([ -9.75934863e-02,   3.51097369e-03,   1.33531604e-01,\n",
       "        -2.19287905e-02,  -9.33042019e-03,  -5.16498412e-03,\n",
       "         1.25541480e-05,  -1.64944973e-06])"
      ]
     },
     "execution_count": 110,
     "metadata": {},
     "output_type": "execute_result"
    }
   ],
   "source": [
    "regression_model.coef_"
   ]
  },
  {
   "cell_type": "code",
   "execution_count": 112,
   "metadata": {},
   "outputs": [
    {
     "name": "stderr",
     "output_type": "stream",
     "text": [
      "C:\\Users\\shorav\\Anaconda2\\lib\\site-packages\\sklearn\\utils\\validation.py:395: DeprecationWarning: Passing 1d arrays as data is deprecated in 0.17 and will raise ValueError in 0.19. Reshape your data either using X.reshape(-1, 1) if your data has a single feature or X.reshape(1, -1) if it contains a single sample.\n",
      "  DeprecationWarning)\n"
     ]
    },
    {
     "data": {
      "text/plain": [
       "array([-1.25230209])"
      ]
     },
     "execution_count": 112,
     "metadata": {},
     "output_type": "execute_result"
    }
   ],
   "source": [
    "regression_model.predict([7,1,1,0,0,0,0,1])"
   ]
  },
  {
   "cell_type": "code",
   "execution_count": null,
   "metadata": {
    "collapsed": true
   },
   "outputs": [],
   "source": []
  },
  {
   "cell_type": "code",
   "execution_count": null,
   "metadata": {
    "collapsed": true
   },
   "outputs": [],
   "source": []
  }
 ],
 "metadata": {
  "kernelspec": {
   "display_name": "Python 2",
   "language": "python",
   "name": "python2"
  },
  "language_info": {
   "codemirror_mode": {
    "name": "ipython",
    "version": 2
   },
   "file_extension": ".py",
   "mimetype": "text/x-python",
   "name": "python",
   "nbconvert_exporter": "python",
   "pygments_lexer": "ipython2",
   "version": "2.7.13"
  }
 },
 "nbformat": 4,
 "nbformat_minor": 2
}
